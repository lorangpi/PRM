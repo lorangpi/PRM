{
 "cells": [
  {
   "cell_type": "code",
   "execution_count": 131,
   "id": "2af4a8ef",
   "metadata": {},
   "outputs": [],
   "source": [
    "states_list = [{'at(can,drop)': False, 'at(can,pick)': True, 'at_grab_level(gripper,can)': False, 'at_gripper(gripper,activate)': False, 'at_gripper(gripper,drop)': False, 'at_gripper(gripper,lightswitch)': False, 'at_gripper(gripper,pick)': True, 'door_collision': False, 'dropped_off': False, 'grasped(can)': True, 'light_off': False, 'locked(door)': False, 'open(door)': False, 'open(gripper)': False, 'over(gripper,can)': True, 'picked_up(can)': True}, {'at(can,drop)': False, 'at(can,pick)': True, 'at_grab_level(gripper,can)': False, 'at_gripper(gripper,activate)': True, 'at_gripper(gripper,drop)': False, 'at_gripper(gripper,lightswitch)': False, 'at_gripper(gripper,pick)': True, 'door_collision': False, 'dropped_off': False, 'grasped(can)': True, 'light_off': False, 'locked(door)': False, 'open(door)': False, 'open(gripper)': False, 'over(gripper,can)': True, 'picked_up(can)': True}, {'at(can,drop)': False, 'at(can,pick)': True, 'at_grab_level(gripper,can)': False, 'at_gripper(gripper,activate)': True, 'at_gripper(gripper,drop)': False, 'at_gripper(gripper,lightswitch)': False, 'at_gripper(gripper,pick)': True, 'door_collision': False, 'dropped_off': False, 'grasped(can)': True, 'light_off': False, 'locked(door)': False, 'open(door)': True, 'open(gripper)': False, 'over(gripper,can)': True, 'picked_up(can)': True}, {'at(can,drop)': False, 'at(can,pick)': True, 'at_grab_level(gripper,can)': False, 'at_gripper(gripper,activate)': True, 'at_gripper(gripper,drop)': False, 'at_gripper(gripper,lightswitch)': False, 'at_gripper(gripper,pick)': True, 'door_collision': False, 'dropped_off': False, 'grasped(can)': True, 'light_off': False, 'locked(door)': False, 'open(door)': False, 'open(gripper)': False, 'over(gripper,can)': True, 'picked_up(can)': True}, {'at(can,drop)': False, 'at(can,pick)': True, 'at_grab_level(gripper,can)': False, 'at_gripper(gripper,activate)': True, 'at_gripper(gripper,drop)': False, 'at_gripper(gripper,lightswitch)': False, 'at_gripper(gripper,pick)': False, 'door_collision': False, 'dropped_off': False, 'grasped(can)': True, 'light_off': False, 'locked(door)': False, 'open(door)': False, 'open(gripper)': False, 'over(gripper,can)': True, 'picked_up(can)': True}, {'at(can,drop)': False, 'at(can,pick)': False, 'at_grab_level(gripper,can)': False, 'at_gripper(gripper,activate)': True, 'at_gripper(gripper,drop)': False, 'at_gripper(gripper,lightswitch)': False, 'at_gripper(gripper,pick)': False, 'door_collision': False, 'dropped_off': False, 'grasped(can)': True, 'light_off': False, 'locked(door)': False, 'open(door)': False, 'open(gripper)': False, 'over(gripper,can)': True, 'picked_up(can)': True}, {'at(can,drop)': False, 'at(can,pick)': True, 'at_grab_level(gripper,can)': False, 'at_gripper(gripper,activate)': True, 'at_gripper(gripper,drop)': False, 'at_gripper(gripper,lightswitch)': False, 'at_gripper(gripper,pick)': True, 'door_collision': False, 'dropped_off': False, 'grasped(can)': True, 'light_off': False, 'locked(door)': False, 'open(door)': False, 'open(gripper)': False, 'over(gripper,can)': True, 'picked_up(can)': True}, {'at(can,drop)': False, 'at(can,pick)': True, 'at_grab_level(gripper,can)': False, 'at_gripper(gripper,activate)': True, 'at_gripper(gripper,drop)': False, 'at_gripper(gripper,lightswitch)': False, 'at_gripper(gripper,pick)': False, 'door_collision': False, 'dropped_off': False, 'grasped(can)': True, 'light_off': False, 'locked(door)': False, 'open(door)': False, 'open(gripper)': False, 'over(gripper,can)': True, 'picked_up(can)': True}, {'at(can,drop)': False, 'at(can,pick)': False, 'at_grab_level(gripper,can)': False, 'at_gripper(gripper,activate)': True, 'at_gripper(gripper,drop)': False, 'at_gripper(gripper,lightswitch)': False, 'at_gripper(gripper,pick)': False, 'door_collision': False, 'dropped_off': False, 'grasped(can)': True, 'light_off': False, 'locked(door)': False, 'open(door)': False, 'open(gripper)': False, 'over(gripper,can)': True, 'picked_up(can)': True}, {'at(can,drop)': False, 'at(can,pick)': False, 'at_grab_level(gripper,can)': False, 'at_gripper(gripper,activate)': False, 'at_gripper(gripper,drop)': False, 'at_gripper(gripper,lightswitch)': False, 'at_gripper(gripper,pick)': False, 'door_collision': False, 'dropped_off': False, 'grasped(can)': True, 'light_off': False, 'locked(door)': False, 'open(door)': False, 'open(gripper)': False, 'over(gripper,can)': True, 'picked_up(can)': True}, {'at(can,drop)': True, 'at(can,pick)': False, 'at_grab_level(gripper,can)': False, 'at_gripper(gripper,activate)': False, 'at_gripper(gripper,drop)': False, 'at_gripper(gripper,lightswitch)': False, 'at_gripper(gripper,pick)': False, 'door_collision': False, 'dropped_off': False, 'grasped(can)': True, 'light_off': False, 'locked(door)': False, 'open(door)': False, 'open(gripper)': False, 'over(gripper,can)': True, 'picked_up(can)': True}]\n",
    "diff_list = [{'at_gripper(gripper,activate)': True}, {'open(door)': True}, {'open(door)': False}, {'at_gripper(gripper,pick)': False}, {'at(can,pick)': False}, {'at(can,pick)': True, 'at_gripper(gripper,pick)': True}, {'at_gripper(gripper,pick)': False}, {'at(can,pick)': False}, {'at_gripper(gripper,activate)': False}, {'at(can,drop)': True}]\n"
   ]
  },
  {
   "cell_type": "code",
   "execution_count": null,
   "id": "35fb2e9d",
   "metadata": {},
   "outputs": [],
   "source": []
  },
  {
   "cell_type": "code",
   "execution_count": 132,
   "id": "d7471657",
   "metadata": {},
   "outputs": [],
   "source": [
    "# Mapping of object names to their types\n",
    "objects = [\"can\", 'door']\n",
    "object_areas = ['pick', 'drop', 'activate', 'lightswitch']\n",
    "grippers = ['gripper']\n",
    "types = {\"location\":\"physobj\", \"object\":\"physobj\", \"gripper\":\"physobj\"}  # Types of entities in the environment\n",
    "obj_types = {obj: \"object\" for obj in objects}\n",
    "obj_types.update({area: \"location\" for area in object_areas})\n",
    "obj_types.update({gripper: \"gripper\" for gripper in grippers})\n"
   ]
  },
  {
   "cell_type": "code",
   "execution_count": 133,
   "id": "ca832697",
   "metadata": {},
   "outputs": [],
   "source": [
    "import pddlpy\n",
    "import re\n",
    "\n",
    "class Action:\n",
    "    def __init__(self, parameters, preconditions, effects, name=None):\n",
    "        self.parameters = parameters\n",
    "        self.preconditions = preconditions\n",
    "        self.effects = effects\n",
    "        self.name = name if name != None else \"a0\"\n",
    "\n",
    "    def _to_pddl(self):\n",
    "        # Transform to PDDL format\n",
    "        parameters = ' '.join([f'?{param} - {type}' for param, type in self.parameters])\n",
    "\n",
    "        preconditions = []\n",
    "        for predicate, value in self.preconditions.items():\n",
    "            if \"(\" in predicate and \")\" in predicate:\n",
    "                formatted_predicate = f'({predicate.split(\"(\")[0]} {\" \".join(predicate.split(\"(\")[1][:-1].split(\",\")).replace(\"  \", \" \")})'\n",
    "            else:\n",
    "                formatted_predicate = f'({predicate})'\n",
    "            if value:\n",
    "                preconditions.append(formatted_predicate)\n",
    "            else:\n",
    "                preconditions.append(f'(not {formatted_predicate})')\n",
    "        preconditions = ' '.join(preconditions)\n",
    "\n",
    "        effects = []\n",
    "        for predicate, value in self.effects.items():\n",
    "            if \"(\" in predicate and \")\" in predicate:\n",
    "                formatted_predicate = f'({predicate.split(\"(\")[0]} {\" \".join(predicate.split(\"(\")[1][:-1].split(\",\")).replace(\"  \", \" \")})'\n",
    "            else:\n",
    "                formatted_predicate = f'({predicate})'\n",
    "            if value:\n",
    "                effects.append(formatted_predicate)\n",
    "            else:\n",
    "                effects.append(f'(not {formatted_predicate})')\n",
    "        effects = ' '.join(effects)\n",
    "\n",
    "        return f'(:action {self.name}\\n  :parameters ({parameters})\\n  :precondition (and {preconditions})\\n  :effect (and {effects}))\\n'\n",
    "\n",
    "    def __str__(self):\n",
    "        return self._to_pddl()\n",
    "\n",
    "def load_action_from_file(domain_file, problem_file):\n",
    "    domprob = pddlpy.DomainProblem(domain_file, problem_file)\n",
    "\n",
    "    actions = []\n",
    "    for operator in domprob.operators():\n",
    "        operator_details = domprob.domain.operators[operator]\n",
    "        parameters = list(operator_details.variable_list.items())\n",
    "        parameters = [(param[0].replace('?', ''), param[1]) for param in parameters]\n",
    "        preconditions = operator_details.precondition_pos\n",
    "        neg_preconditions = operator_details.precondition_neg\n",
    "        effects = operator_details.effect_pos\n",
    "        neg_effects = operator_details.effect_neg\n",
    "        effects = [atom.predicate for atom in list(effects)]\n",
    "        neg_effects = [atom.predicate for atom in list(neg_effects)]\n",
    "        preconditions = [atom.predicate for atom in list(preconditions )]\n",
    "        neg_preconditions = [atom.predicate for atom in list(neg_preconditions )]\n",
    "        effects = {f'{effect[0]}({\", \".join(effect[1:])})': True for effect in list(effects)}\n",
    "        effects.update({f'{effect[0]}({\", \".join(effect[1:])})': False for effect in neg_effects})\n",
    "        pre = {f'{pre[0]}({\", \".join(pre[1:])})': True for pre in preconditions}\n",
    "        pre.update({f'{pre[0]}({\", \".join(pre[1:])})': False for pre in neg_preconditions})\n",
    "        actions.append(Action(parameters, pre, effects, name=operator))\n",
    "\n",
    "    return actions\n",
    "    \n",
    "\"\"\"\n",
    "def load_action_from_file(domain_file, problem_file):\n",
    "    domprob = pddlpy.DomainProblem(domain_file, problem_file)\n",
    "\n",
    "    actions = []\n",
    "    for operator in domprob.operators():\n",
    "        operator_details = domprob.domain.operators[operator]\n",
    "        parameters = list(operator_details.variable_list.items())\n",
    "        parameters = [(param[0].replace('?', ''), param[1]) for param in parameters]\n",
    "        preconditions = operator_details.precondition_pos\n",
    "        neg_preconditions = operator_details.precondition_neg\n",
    "        effects = operator_details.effect_pos\n",
    "        neg_effects = operator_details.effect_neg\n",
    "        effects = [atom.predicate for atom in list(effects)]\n",
    "        neg_effects = [atom.predicate for atom in list(neg_effects)]\n",
    "        preconditions = [atom.predicate for atom in list(preconditions )]\n",
    "        neg_preconditions = [atom.predicate for atom in list(neg_preconditions )]\n",
    "        effects = {f'{effect[0]}({\", \".join(effect[1:])})': True for effect in list(effects)}\n",
    "        effects.update({f'{effect[0]}({\", \".join(effect[1:])})': False for effect in neg_effects})\n",
    "        pre = {f'{pre[0]}({\", \".join(pre[1:])})': True for pre in preconditions}\n",
    "        pre.update({f'{pre[0]}({\", \".join(pre[1:])})': False for pre in neg_preconditions})\n",
    "        actions.append(Action(parameters, pre, effects))\n",
    "\n",
    "    return actions\n",
    "\"\"\"\n",
    "\n",
    "def replace_actions_in_domain(file, actions):\n",
    "    with open(file, 'r') as f:\n",
    "        domain = f.read()\n",
    "\n",
    "    start, end = domain.split('(:action', 1)\n",
    "    end = ')'+end.rsplit(')', 1)[1]\n",
    "\n",
    "    for a in actions:\n",
    "        print(a)\n",
    "    new_actions = '\\n'.join([action._to_pddl() for action in actions])\n",
    "\n",
    "    new_file = file.rsplit('.', 1)[0] + '_dummy.pddl'\n",
    "    with open(new_file, 'w') as f:\n",
    "        f.write(start + new_actions + end)\n",
    "\n",
    "def extract_objects_from_predicate(predicate):\n",
    "    if '(' in predicate and ')' in predicate:\n",
    "        objects = predicate.split('(')[1].split(')')[0].split(',')\n",
    "        return [obj.strip() for obj in objects if obj.strip()]  # remove empty strings and strip whitespace\n",
    "    else:\n",
    "        return []  # return an empty list if the predicate does not take any objects\n",
    "    \n",
    "def replace_whole_word(text, old_word, new_word):\n",
    "    return re.sub(r'\\b' + old_word + r'\\b', new_word, text)\n",
    "\n",
    "def operator_learner_minimal_effects_ungrounded(predicates_t, predicates_t1, type_mapping, name=None):\n",
    "    parameters = []\n",
    "    preconditions = {}\n",
    "    effects = {}\n",
    "\n",
    "    for predicate, value in predicates_t.items():\n",
    "        objects = extract_objects_from_predicate(predicate)\n",
    "        parameters.extend([(obj, type_mapping[obj]) for obj in objects])\n",
    "        parametrized_predicate = predicate\n",
    "        for obj in objects:\n",
    "            parametrized_predicate = replace_whole_word(parametrized_predicate, obj, '?' + obj)\n",
    "        preconditions[parametrized_predicate] = value\n",
    "\n",
    "    for predicate, value in predicates_t1.items():\n",
    "        if predicate not in predicates_t or predicates_t1[predicate] != predicates_t[predicate]:\n",
    "            objects = extract_objects_from_predicate(predicate)\n",
    "            parameters.extend([(obj, type_mapping[obj]) for obj in objects])\n",
    "            parametrized_predicate = predicate\n",
    "            for obj in objects:\n",
    "                parametrized_predicate = replace_whole_word(parametrized_predicate, obj, '?' + obj)\n",
    "            effects[parametrized_predicate] = value\n",
    "\n",
    "    parameters = list(set(parameters))  # remove duplicates\n",
    "\n",
    "    return Action(parameters, preconditions, effects, name)\n",
    "\n",
    "def operator_learner_minimal_effects_grounded(predicates_t, predicates_t1, type_mapping, name=None):\n",
    "    parameters = []\n",
    "    preconditions = {}\n",
    "    effects = {}\n",
    "\n",
    "    for predicate, value in predicates_t.items():\n",
    "        objects = extract_objects_from_predicate(predicate)\n",
    "        #parameters.extend([(obj, type_mapping[obj]) for obj in objects])\n",
    "        parametrized_predicate = predicate\n",
    "        #for obj in objects:\n",
    "        #    parametrized_predicate = replace_whole_word(parametrized_predicate, obj, '?' + obj)\n",
    "        preconditions[parametrized_predicate] = value\n",
    "\n",
    "    for predicate, value in predicates_t1.items():\n",
    "        if predicate not in predicates_t or predicates_t1[predicate] != predicates_t[predicate]:\n",
    "            objects = extract_objects_from_predicate(predicate)\n",
    "            parameters.extend([(obj, type_mapping[obj]) for obj in objects])\n",
    "            parametrized_predicate = predicate\n",
    "            #for obj in objects:\n",
    "            #    parametrized_predicate = replace_whole_word(parametrized_predicate, obj, '?' + obj)\n",
    "            effects[parametrized_predicate] = value\n",
    "\n",
    "    parameters = list(set(parameters))  # remove duplicates\n",
    "\n",
    "    return Action(parameters, preconditions, effects, name)\n",
    "\n",
    "def operator_learner_nothing_grounded(predicates_t, predicates_t1, type_mapping, name=None):\n",
    "    parameters = []\n",
    "    preconditions = {}\n",
    "    effects = {}\n",
    "\n",
    "    for predicate, value in predicates_t.items():\n",
    "        objects = extract_objects_from_predicate(predicate)\n",
    "        parameters.extend([(obj, type_mapping[obj]) for obj in objects])\n",
    "        parametrized_predicate = predicate\n",
    "        for obj in objects:\n",
    "            parametrized_predicate = replace_whole_word(parametrized_predicate, obj, '?' + obj)\n",
    "        preconditions[parametrized_predicate] = value\n",
    "\n",
    "    for predicate, value in predicates_t1.items():\n",
    "        #if predicate not in predicates_t or predicates_t1[predicate] != predicates_t[predicate]:\n",
    "        objects = extract_objects_from_predicate(predicate)\n",
    "        parameters.extend([(obj, type_mapping[obj]) for obj in objects])\n",
    "        parametrized_predicate = predicate\n",
    "        for obj in objects:\n",
    "            parametrized_predicate = replace_whole_word(parametrized_predicate, obj, '?' + obj)\n",
    "        effects[parametrized_predicate] = value\n",
    "\n",
    "    parameters = list(set(parameters))  # remove duplicates\n",
    "\n",
    "    return Action(parameters, preconditions, effects, name)\n",
    "\n",
    "def operator_learner_minimal_effects_grounded_preconditions(predicates_t, predicates_t1, type_mapping, name=None):\n",
    "    parameters = []\n",
    "    preconditions = {}\n",
    "    effects = {}\n",
    "\n",
    "    for predicate, value in predicates_t.items():\n",
    "        objects = extract_objects_from_predicate(predicate)\n",
    "        #parameters.extend([(obj, type_mapping[obj]) for obj in objects])\n",
    "        parametrized_predicate = predicate\n",
    "        #for obj in objects:\n",
    "        #    parametrized_predicate = replace_whole_word(parametrized_predicate, obj, '?' + obj)\n",
    "        preconditions[parametrized_predicate] = value\n",
    "\n",
    "    for predicate, value in predicates_t1.items():\n",
    "        if predicate not in predicates_t or predicates_t1[predicate] != predicates_t[predicate]:\n",
    "            objects = extract_objects_from_predicate(predicate)\n",
    "            parameters.extend([(obj, type_mapping[obj]) for obj in objects])\n",
    "            parametrized_predicate = predicate\n",
    "            for obj in objects:\n",
    "                parametrized_predicate = replace_whole_word(parametrized_predicate, obj, '?' + obj)\n",
    "            effects[parametrized_predicate] = value\n",
    "\n",
    "    parameters = list(set(parameters))  # remove duplicates\n",
    "\n",
    "    return Action(parameters, preconditions, effects, name)\n",
    "\n",
    "\n",
    "def merge_actions(action1, action2):\n",
    "    if action1.effects != action2.effects:\n",
    "        return None\n",
    "\n",
    "    merged_parameters = list(set(action1.parameters + action2.parameters))\n",
    "    merged_preconditions = {predicate: value for predicate, value in action1.preconditions.items() if predicate in action2.preconditions and action2.preconditions[predicate] == value}\n",
    "\n",
    "    return Action(merged_parameters, merged_preconditions, action1.effects)"
   ]
  },
  {
   "cell_type": "code",
   "execution_count": 134,
   "id": "bf321f7f",
   "metadata": {},
   "outputs": [
    {
     "name": "stdout",
     "output_type": "stream",
     "text": [
      "{'at(can,drop)': False, 'at(can,pick)': True, 'at_grab_level(gripper,can)': False, 'at_gripper(gripper,activate)': False, 'at_gripper(gripper,drop)': False, 'at_gripper(gripper,lightswitch)': False, 'at_gripper(gripper,pick)': True, 'door_collision': False, 'dropped_off': False, 'grasped(can)': True, 'light_off': False, 'locked(door)': False, 'open(door)': False, 'open(gripper)': False, 'over(gripper,can)': True, 'picked_up(can)': True} {'at(can,drop)': False, 'at(can,pick)': True, 'at_grab_level(gripper,can)': False, 'at_gripper(gripper,activate)': True, 'at_gripper(gripper,drop)': False, 'at_gripper(gripper,lightswitch)': False, 'at_gripper(gripper,pick)': True, 'door_collision': False, 'dropped_off': False, 'grasped(can)': True, 'light_off': False, 'locked(door)': False, 'open(door)': False, 'open(gripper)': False, 'over(gripper,can)': True, 'picked_up(can)': True} {'at_gripper(gripper,activate)': True}\n"
     ]
    }
   ],
   "source": [
    "s1 = states_list[0]\n",
    "s2 = states_list[1]\n",
    "s3 = states_list[2]\n",
    "diff = diff_list[0]\n",
    "\n",
    "print(s1, s2, diff)"
   ]
  },
  {
   "cell_type": "code",
   "execution_count": 135,
   "id": "fa001598",
   "metadata": {},
   "outputs": [],
   "source": [
    "def operator_learner_complete(predicates_t, predicates_t1, type_mapping, name=None):\n",
    "    parameters = []\n",
    "    preconditions = {}\n",
    "    effects = {}\n",
    "\n",
    "    for predicate, value in predicates_t.items():\n",
    "        objects = extract_objects_from_predicate(predicate)\n",
    "        #parameters.extend([(obj, type_mapping[obj]) for obj in objects])\n",
    "        parametrized_predicate = predicate\n",
    "        #for obj in objects:\n",
    "        #    parametrized_predicate = replace_whole_word(parametrized_predicate, obj, '?' + obj)\n",
    "        preconditions[parametrized_predicate] = value\n",
    "\n",
    "    for predicate, value in predicates_t1.items():\n",
    "        if predicate not in predicates_t or predicates_t1[predicate] != predicates_t[predicate]:\n",
    "            objects = extract_objects_from_predicate(predicate)\n",
    "            parameters.extend([(obj, type_mapping[obj]) for obj in objects])\n",
    "            parametrized_predicate = predicate\n",
    "            #for obj in objects:\n",
    "            #    parametrized_predicate = replace_whole_word(parametrized_predicate, obj, '?' + obj)\n",
    "            effects[parametrized_predicate] = value\n",
    "\n",
    "    parameters = list(set(parameters))  # remove duplicates\n",
    "\n",
    "    return Action(parameters, preconditions, effects, name)"
   ]
  },
  {
   "cell_type": "code",
   "execution_count": 136,
   "id": "23a61505",
   "metadata": {
    "scrolled": true
   },
   "outputs": [],
   "source": [
    "a0 = operator_learner_strict(s1, s2, obj_types, name=\"a0\")"
   ]
  },
  {
   "cell_type": "code",
   "execution_count": 137,
   "id": "412c22eb",
   "metadata": {},
   "outputs": [],
   "source": [
    "s1b = {'at(can,drop)': False, 'at(can,pick)': True, 'at_grab_level(gripper,can)': False, 'at_gripper(gripper,activate)': False, 'at_gripper(gripper,drop)': False, 'at_gripper(gripper,lightswitch)': True, 'at_gripper(gripper,pick)': False, 'door_collision': False, 'dropped_off': False, 'grasped(can)': True, 'light_off': False, 'locked(door)': False, 'open(door)': False, 'open(gripper)': False, 'over(gripper,can)': True, 'picked_up(can)': True}"
   ]
  },
  {
   "cell_type": "code",
   "execution_count": 138,
   "id": "c329f6f3",
   "metadata": {},
   "outputs": [],
   "source": [
    "s2b = {'at(can,drop)': False, 'at(can,pick)': True, 'at_grab_level(gripper,can)': False, 'at_gripper(gripper,activate)': True, 'at_gripper(gripper,drop)': False, 'at_gripper(gripper,lightswitch)': True, 'at_gripper(gripper,pick)': False, 'door_collision': False, 'dropped_off': False, 'grasped(can)': True, 'light_off': False, 'locked(door)': False, 'open(door)': False, 'open(gripper)': False, 'over(gripper,can)': True, 'picked_up(can)': True}"
   ]
  },
  {
   "cell_type": "code",
   "execution_count": 139,
   "id": "8c64f8f1",
   "metadata": {},
   "outputs": [],
   "source": [
    "a00 = operator_learner_complete(s1b, s2b, obj_types, name=\"a00\")"
   ]
  },
  {
   "cell_type": "code",
   "execution_count": 140,
   "id": "dfe9b80d",
   "metadata": {
    "scrolled": true
   },
   "outputs": [
    {
     "name": "stdout",
     "output_type": "stream",
     "text": [
      "(:action a00\n",
      "  :parameters (?activate - location ?gripper - gripper)\n",
      "  :precondition (and (not (at can drop)) (at can pick) (not (at_grab_level gripper can)) (not (at_gripper gripper activate)) (not (at_gripper gripper drop)) (at_gripper gripper lightswitch) (not (at_gripper gripper pick)) (not (door_collision)) (not (dropped_off)) (grasped can) (not (light_off)) (not (locked door)) (not (open door)) (not (open gripper)) (over gripper can) (picked_up can))\n",
      "  :effect (and (at_gripper gripper activate)))\n",
      "\n"
     ]
    }
   ],
   "source": [
    "print(a00)"
   ]
  },
  {
   "cell_type": "code",
   "execution_count": 141,
   "id": "fea66e8a",
   "metadata": {
    "scrolled": false
   },
   "outputs": [
    {
     "name": "stdout",
     "output_type": "stream",
     "text": [
      "{'at(can,drop)': False, 'at(can,pick)': True, 'at_grab_level(gripper,can)': False, 'at_gripper(gripper,activate)': False, 'at_gripper(gripper,drop)': False, 'at_gripper(gripper,lightswitch)': True, 'at_gripper(gripper,pick)': False, 'door_collision': False, 'dropped_off': False, 'grasped(can)': True, 'light_off': False, 'locked(door)': False, 'open(door)': False, 'open(gripper)': False, 'over(gripper,can)': True, 'picked_up(can)': True}\n"
     ]
    }
   ],
   "source": [
    "print(a00.preconditions)"
   ]
  },
  {
   "cell_type": "code",
   "execution_count": 142,
   "id": "2debc0d2",
   "metadata": {},
   "outputs": [],
   "source": [
    "actions = list()\n",
    "counter = 0\n",
    "for i in range(len(states_list)-1):\n",
    "    action = operator_learner_complete(states_list[i], states_list[i+1], obj_types, name=\"a\"+str(i))\n",
    "    actions.append(action)\n",
    "    counter = i"
   ]
  },
  {
   "cell_type": "code",
   "execution_count": 143,
   "id": "f4204e30",
   "metadata": {},
   "outputs": [
    {
     "data": {
      "text/plain": [
       "10"
      ]
     },
     "execution_count": 143,
     "metadata": {},
     "output_type": "execute_result"
    }
   ],
   "source": [
    "len(actions)"
   ]
  },
  {
   "cell_type": "code",
   "execution_count": 144,
   "id": "9eae1ddb",
   "metadata": {},
   "outputs": [
    {
     "name": "stdout",
     "output_type": "stream",
     "text": [
      "/home/lorangpi/SymGO/operator_learners\r\n"
     ]
    }
   ],
   "source": [
    "!pwd"
   ]
  },
  {
   "cell_type": "code",
   "execution_count": 145,
   "id": "b8f90b26",
   "metadata": {
    "scrolled": true
   },
   "outputs": [
    {
     "name": "stdout",
     "output_type": "stream",
     "text": [
      "{'at_gripper(?g, ?to)': True, 'at_gripper(?g, ?from)': False}\n",
      "{'picked_up(?obj)': True, 'at(?obj, ?location)': False}\n",
      "{'at(?obj, ?location)': True, 'picked_up(?obj)': False}\n"
     ]
    }
   ],
   "source": [
    "actions2 = load_action_from_file(\"./PDDL_files/domain.pddl\", \"./PDDL_files/problem.pddl\")\n",
    "for a in actions2:\n",
    "    print(a.effects)"
   ]
  },
  {
   "cell_type": "code",
   "execution_count": 181,
   "id": "1615de49",
   "metadata": {},
   "outputs": [],
   "source": [
    "def restrict_action(actions, grounded_action):\n",
    "    # Parse the grounded action\n",
    "    grounded_action_name = grounded_action.split('(')[0]\n",
    "    grounded_action_params = grounded_action.split('(')[1][:-1].split(', ')\n",
    "\n",
    "    # Create a new list of actions\n",
    "    new_actions = []\n",
    "\n",
    "    # Iterate over the actions\n",
    "    for action in actions:\n",
    "        # If the action name matches the grounded action name\n",
    "        if action.name == grounded_action_name:\n",
    "\n",
    "            # Iterate over the parameters of the action\n",
    "            for i, (param, type) in enumerate(action.parameters):\n",
    "                # Create a copy of the action\n",
    "                new_action = Action(action.parameters.copy(), action.preconditions.copy(), action.effects.copy(), action.name + str(i))\n",
    "\n",
    "                # Add a new precondition that the parameter cannot have that value\n",
    "                new_action.preconditions[f'= ?{param}, {grounded_action_params[i]}'] = False\n",
    "\n",
    "                # Add the new action to the list of new actions\n",
    "                new_actions.append(new_action)\n",
    "        else:\n",
    "            # If the action name does not match the grounded action name, add the action to the list of new actions without modifying it\n",
    "            new_actions.append(action)\n",
    "\n",
    "    # Return the new list of actions\n",
    "    return new_actions"
   ]
  },
  {
   "cell_type": "code",
   "execution_count": 182,
   "id": "84218ece",
   "metadata": {},
   "outputs": [],
   "source": [
    "actions_modified = restrict_action(actions2, \"move(pick, drop, gripper)\")"
   ]
  },
  {
   "cell_type": "code",
   "execution_count": 183,
   "id": "2ca056b6",
   "metadata": {},
   "outputs": [
    {
     "name": "stdout",
     "output_type": "stream",
     "text": [
      "(:action move0\n",
      "  :parameters (?from - location ?to - location ?g - gripper)\n",
      "  :precondition (and (at_gripper ?g ?from) (not (= ?from, pick)))\n",
      "  :effect (and (at_gripper ?g ?to) (not (at_gripper ?g ?from))))\n",
      "\n",
      "(:action move1\n",
      "  :parameters (?from - location ?to - location ?g - gripper)\n",
      "  :precondition (and (at_gripper ?g ?from) (not (= ?to, drop)))\n",
      "  :effect (and (at_gripper ?g ?to) (not (at_gripper ?g ?from))))\n",
      "\n",
      "(:action move2\n",
      "  :parameters (?from - location ?to - location ?g - gripper)\n",
      "  :precondition (and (at_gripper ?g ?from) (not (= ?g, gripper)))\n",
      "  :effect (and (at_gripper ?g ?to) (not (at_gripper ?g ?from))))\n",
      "\n",
      "(:action pick\n",
      "  :parameters (?obj - object ?location - location ?gripper - gripper)\n",
      "  :precondition (and (at_gripper ?gripper ?location) (at ?obj ?location) (not (picked_up ?obj)))\n",
      "  :effect (and (picked_up ?obj) (not (at ?obj ?location))))\n",
      "\n",
      "(:action drop\n",
      "  :parameters (?obj - object ?location - location ?gripper - gripper)\n",
      "  :precondition (and (at_gripper ?gripper ?location) (picked_up ?obj))\n",
      "  :effect (and (at ?obj ?location) (not (picked_up ?obj))))\n",
      "\n"
     ]
    }
   ],
   "source": [
    "for a in actions_modified:\n",
    "    print(a)"
   ]
  },
  {
   "cell_type": "code",
   "execution_count": 126,
   "id": "93781f42",
   "metadata": {},
   "outputs": [
    {
     "name": "stdout",
     "output_type": "stream",
     "text": [
      "[('from', 'location'), ('to', 'location'), ('obj', 'object')]\n",
      "{'at(?obj, ?from)': True}\n",
      "{'at(?obj, ?to)': True, 'at(?obj, ?from)': False}\n",
      "(:action move\n",
      "  :parameters (?from - location ?to - location ?obj - object)\n",
      "  :precondition (and (at ?obj ?from))\n",
      "  :effect (and (at ?obj ?to) (not (at ?obj ?from))))\n",
      "\n"
     ]
    }
   ],
   "source": [
    "a = actions2[0]\n",
    "print(a.parameters)\n",
    "print(a.preconditions)\n",
    "print(a.effects)\n",
    "print(a._to_pddl())"
   ]
  },
  {
   "cell_type": "code",
   "execution_count": 127,
   "id": "d94ad8ab",
   "metadata": {},
   "outputs": [],
   "source": [
    "parameters = ' '.join([f'?{param} - {type}' for param, type in a.parameters])"
   ]
  },
  {
   "cell_type": "code",
   "execution_count": 128,
   "id": "27ffe432",
   "metadata": {},
   "outputs": [
    {
     "data": {
      "text/plain": [
       "'?from - location ?to - location ?obj - object'"
      ]
     },
     "execution_count": 128,
     "metadata": {},
     "output_type": "execute_result"
    }
   ],
   "source": [
    "parameters"
   ]
  },
  {
   "cell_type": "code",
   "execution_count": 129,
   "id": "33f55571",
   "metadata": {},
   "outputs": [],
   "source": [
    "actions = actions + actions2"
   ]
  },
  {
   "cell_type": "code",
   "execution_count": 130,
   "id": "5c4514be",
   "metadata": {},
   "outputs": [
    {
     "name": "stdout",
     "output_type": "stream",
     "text": [
      "(:action a0\n",
      "  :parameters (?activate - location ?gripper - gripper)\n",
      "  :precondition (and (not (at can drop)) (at can pick) (not (at_grab_level gripper can)) (not (at_gripper gripper activate)) (not (at_gripper gripper drop)) (not (at_gripper gripper lightswitch)) (at_gripper gripper pick) (not (door_collision)) (not (dropped_off)) (grasped can) (not (light_off)) (not (locked door)) (not (open door)) (not (open gripper)) (over gripper can) (picked_up can))\n",
      "  :effect (and (at_gripper gripper activate)))\n",
      "\n",
      "(:action a1\n",
      "  :parameters (?door - object)\n",
      "  :precondition (and (not (at can drop)) (at can pick) (not (at_grab_level gripper can)) (at_gripper gripper activate) (not (at_gripper gripper drop)) (not (at_gripper gripper lightswitch)) (at_gripper gripper pick) (not (door_collision)) (not (dropped_off)) (grasped can) (not (light_off)) (not (locked door)) (not (open door)) (not (open gripper)) (over gripper can) (picked_up can))\n",
      "  :effect (and (open door)))\n",
      "\n",
      "(:action a2\n",
      "  :parameters (?door - object)\n",
      "  :precondition (and (not (at can drop)) (at can pick) (not (at_grab_level gripper can)) (at_gripper gripper activate) (not (at_gripper gripper drop)) (not (at_gripper gripper lightswitch)) (at_gripper gripper pick) (not (door_collision)) (not (dropped_off)) (grasped can) (not (light_off)) (not (locked door)) (open door) (not (open gripper)) (over gripper can) (picked_up can))\n",
      "  :effect (and (not (open door))))\n",
      "\n",
      "(:action a3\n",
      "  :parameters (?pick - location ?gripper - gripper)\n",
      "  :precondition (and (not (at can drop)) (at can pick) (not (at_grab_level gripper can)) (at_gripper gripper activate) (not (at_gripper gripper drop)) (not (at_gripper gripper lightswitch)) (at_gripper gripper pick) (not (door_collision)) (not (dropped_off)) (grasped can) (not (light_off)) (not (locked door)) (not (open door)) (not (open gripper)) (over gripper can) (picked_up can))\n",
      "  :effect (and (not (at_gripper gripper pick))))\n",
      "\n",
      "(:action a4\n",
      "  :parameters (?pick - location ?can - object)\n",
      "  :precondition (and (not (at can drop)) (at can pick) (not (at_grab_level gripper can)) (at_gripper gripper activate) (not (at_gripper gripper drop)) (not (at_gripper gripper lightswitch)) (not (at_gripper gripper pick)) (not (door_collision)) (not (dropped_off)) (grasped can) (not (light_off)) (not (locked door)) (not (open door)) (not (open gripper)) (over gripper can) (picked_up can))\n",
      "  :effect (and (not (at can pick))))\n",
      "\n",
      "(:action a5\n",
      "  :parameters (?pick - location ?can - object ?gripper - gripper)\n",
      "  :precondition (and (not (at can drop)) (not (at can pick)) (not (at_grab_level gripper can)) (at_gripper gripper activate) (not (at_gripper gripper drop)) (not (at_gripper gripper lightswitch)) (not (at_gripper gripper pick)) (not (door_collision)) (not (dropped_off)) (grasped can) (not (light_off)) (not (locked door)) (not (open door)) (not (open gripper)) (over gripper can) (picked_up can))\n",
      "  :effect (and (at can pick) (at_gripper gripper pick)))\n",
      "\n",
      "(:action a6\n",
      "  :parameters (?pick - location ?gripper - gripper)\n",
      "  :precondition (and (not (at can drop)) (at can pick) (not (at_grab_level gripper can)) (at_gripper gripper activate) (not (at_gripper gripper drop)) (not (at_gripper gripper lightswitch)) (at_gripper gripper pick) (not (door_collision)) (not (dropped_off)) (grasped can) (not (light_off)) (not (locked door)) (not (open door)) (not (open gripper)) (over gripper can) (picked_up can))\n",
      "  :effect (and (not (at_gripper gripper pick))))\n",
      "\n",
      "(:action a7\n",
      "  :parameters (?pick - location ?can - object)\n",
      "  :precondition (and (not (at can drop)) (at can pick) (not (at_grab_level gripper can)) (at_gripper gripper activate) (not (at_gripper gripper drop)) (not (at_gripper gripper lightswitch)) (not (at_gripper gripper pick)) (not (door_collision)) (not (dropped_off)) (grasped can) (not (light_off)) (not (locked door)) (not (open door)) (not (open gripper)) (over gripper can) (picked_up can))\n",
      "  :effect (and (not (at can pick))))\n",
      "\n",
      "(:action a8\n",
      "  :parameters (?activate - location ?gripper - gripper)\n",
      "  :precondition (and (not (at can drop)) (not (at can pick)) (not (at_grab_level gripper can)) (at_gripper gripper activate) (not (at_gripper gripper drop)) (not (at_gripper gripper lightswitch)) (not (at_gripper gripper pick)) (not (door_collision)) (not (dropped_off)) (grasped can) (not (light_off)) (not (locked door)) (not (open door)) (not (open gripper)) (over gripper can) (picked_up can))\n",
      "  :effect (and (not (at_gripper gripper activate))))\n",
      "\n",
      "(:action a9\n",
      "  :parameters (?drop - location ?can - object)\n",
      "  :precondition (and (not (at can drop)) (not (at can pick)) (not (at_grab_level gripper can)) (not (at_gripper gripper activate)) (not (at_gripper gripper drop)) (not (at_gripper gripper lightswitch)) (not (at_gripper gripper pick)) (not (door_collision)) (not (dropped_off)) (grasped can) (not (light_off)) (not (locked door)) (not (open door)) (not (open gripper)) (over gripper can) (picked_up can))\n",
      "  :effect (and (at can drop)))\n",
      "\n",
      "(:action move\n",
      "  :parameters (?from - location ?to - location ?obj - object)\n",
      "  :precondition (and (at ?obj ?from))\n",
      "  :effect (and (at ?obj ?to) (not (at ?obj ?from))))\n",
      "\n",
      "(:action pick\n",
      "  :parameters (?obj - object ?location - location ?gripper - gripper)\n",
      "  :precondition (and (at ?obj ?location) (at_gripper ?gripper ?location) (not (picked_up ?obj)))\n",
      "  :effect (and (picked_up ?obj) (not (at ?obj ?location))))\n",
      "\n",
      "(:action drop\n",
      "  :parameters (?obj - object ?location - location ?gripper - gripper)\n",
      "  :precondition (and (at_gripper ?gripper ?location) (picked_up ?obj))\n",
      "  :effect (and (at ?obj ?location) (not (picked_up ?obj))))\n",
      "\n"
     ]
    }
   ],
   "source": [
    "replace_actions_in_domain(\"./PDDL_files/domain.pddl\", actions)"
   ]
  },
  {
   "cell_type": "code",
   "execution_count": 1,
   "id": "f88bf1a3",
   "metadata": {},
   "outputs": [],
   "source": [
    "state_dict = {'0': {'on(cube1,peg3)': True, 'on(cube2,cube3)': True, 'on(cube3,peg2)': True}, \n",
    "'1': {'on(cube1,cube2)': True, 'on(cube2,cube3)': True, 'on(cube3,peg2)': True}, \n",
    "'2': {'on(cube1,cube2)': True, 'on(cube2,peg2)': True, 'on(cube3,peg1)': True}, \n",
    "'3': {'on(cube1,cube3)': True, 'on(cube2,peg2)': True, 'on(cube3,peg1)': True}, \n",
    "'4': {'on(cube1,cube2)': True, 'on(cube2,peg2)': True, 'on(cube3,peg3)': True}, \n",
    "'5': {'on(cube1,peg3)': True, 'on(cube2,peg2)': True, 'on(cube3,peg1)': True}, \n",
    "'6': {'on(cube1,peg3)': True, 'on(cube2,cube3)': True, 'on(cube3,peg1)': True}, \n",
    "'7': {'on(cube2,cube3)': True, 'on(cube2,peg2)': True, 'on(cube3,peg2)': True}, \n",
    "'8': {'on(cube1,peg1)': True, 'on(cube2,peg2)': True, 'on(cube3,peg3)': True}, \n",
    "'9': {'on(cube1,cube3)': True, 'on(cube2,peg2)': True, 'on(cube3,peg3)': True}, \n",
    "'10': {'on(cube1,cube3)': True, 'on(cube2,peg1)': True, 'on(cube3,peg3)': True}, \n",
    "'11': {'on(cube1,cube2)': True, 'on(cube2,cube3)': True, 'on(cube3,peg1)': True}, \n",
    "'12': {'on(cube1,peg2)': True, 'on(cube2,cube3)': True, 'on(cube3,peg1)': True}, \n",
    "'13': {'on(cube1,peg2)': True, 'on(cube2,peg3)': True, 'on(cube3,peg1)': True}, \n",
    "'14': {'on(cube1,cube3)': True, 'on(cube2,peg3)': True, 'on(cube3,peg1)': True}, \n",
    "'15': {'on(cube1,peg1)': True, 'on(cube2,cube3)': True, 'on(cube3,peg2)': True}, \n",
    "'16': {'on(cube1,peg1)': True, 'on(cube2,peg3)': True, 'on(cube3,peg2)': True}, \n",
    "'17': {'on(cube1,peg2)': True, 'on(cube2,peg1)': True, 'on(cube3,peg1)': True}, \n",
    "'18': {'on(cube1,peg2)': True, 'on(cube2,peg1)': True, 'on(cube3,peg3)': True}, \n",
    "'19': {'on(cube1,peg2)': True, 'on(cube2,cube3)': True, 'on(cube3,peg3)': True}, \n",
    "'20': {'on(cube1,peg1)': True, 'on(cube2,cube3)': True, 'on(cube3,peg3)': True}, \n",
    "'21': {'on(cube1,cube2)': True, 'on(cube2,cube3)': True, 'on(cube3,peg3)': True}, \n",
    "'22': {'on(cube1,peg3)': True, 'on(cube2,peg1)': True, 'on(cube3,peg2)': True}, \n",
    "'23': {'on(cube1,cube3)': True, 'on(cube2,peg1)': True, 'on(cube3,peg2)': True}, \n",
    "'24': {'on(cube1,cube2)': True, 'on(cube2,peg1)': True, 'on(cube3,peg2)': True}, \n",
    "'25': {'on(cube1,peg3)': True, 'on(cube2,peg1)': True, 'on(cube3,peg1)': True}, \n",
    "'26': {'on(cube2,cube3)': True, 'on(cube2,peg1)': True, 'on(cube3,peg1)': True}, \n",
    "'27': {'on(cube1,peg2)': True, 'on(cube2,peg3)': True, 'on(cube3,peg2)': True}, \n",
    "'28': {'on(cube1,cube2)': True, 'on(cube2,peg1)': True, 'on(cube3,peg3)': True}, \n",
    "'29': {'on(cube1,cube2)': True, 'on(cube2,peg3)': True, 'on(cube3,peg1)': True}, \n",
    "'30': {'on(cube1,cube2)': True, 'on(cube2,peg3)': True, 'on(cube3,peg2)': True}, \n",
    "'31': {'on(cube1,cube3)': True, 'on(cube2,peg3)': True, 'on(cube3,peg2)': True}}"
   ]
  },
  {
   "cell_type": "code",
   "execution_count": 2,
   "id": "bb0d4626",
   "metadata": {},
   "outputs": [],
   "source": [
    "# Create a reverse dictionary where the keys are the inner dictionaries converted to frozensets\n",
    "# and the values are lists of the original keys that have those inner dictionaries.\n",
    "reverse_dict = {}\n",
    "for key, value in state_dict.items():\n",
    "    frozen_value = frozenset(value.items())\n",
    "    if frozen_value not in reverse_dict:\n",
    "        reverse_dict[frozen_value] = [key]\n",
    "    else:\n",
    "        reverse_dict[frozen_value].append(key)\n",
    "\n",
    "# Print out the sets of equivalent states.\n",
    "for value, keys in reverse_dict.items():\n",
    "    if len(keys) > 1:\n",
    "        print(f\"Equivalent states: {keys}\")"
   ]
  },
  {
   "cell_type": "code",
   "execution_count": null,
   "id": "5afb35ec",
   "metadata": {},
   "outputs": [],
   "source": []
  }
 ],
 "metadata": {
  "kernelspec": {
   "display_name": "Python 3 (ipykernel)",
   "language": "python",
   "name": "python3"
  },
  "language_info": {
   "codemirror_mode": {
    "name": "ipython",
    "version": 3
   },
   "file_extension": ".py",
   "mimetype": "text/x-python",
   "name": "python",
   "nbconvert_exporter": "python",
   "pygments_lexer": "ipython3",
   "version": "3.8.10"
  }
 },
 "nbformat": 4,
 "nbformat_minor": 5
}
